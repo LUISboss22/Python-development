{
 "cells": [
  {
   "cell_type": "markdown",
   "metadata": {},
   "source": [
    "# How to Read and Write With CSV Files in Python\n",
    "\n",
    "## Here you will find quick examples of reading CSV file\n",
    "\n",
    "### There are two main ways to read CSV files in Python:\n"
   ]
  },
  {
   "cell_type": "markdown",
   "metadata": {},
   "source": [
    "### Using the csv Module\n",
    "\n",
    "The csv module is the built-in module for working with CSV files in Python. \n",
    "It provides basic functionality for reading and writing CSV data."
   ]
  },
  {
   "cell_type": "code",
   "execution_count": null,
   "metadata": {},
   "outputs": [],
   "source": [
    "import csv\n",
    "\n",
    "# Open the CSV file in read mode\n",
    "with open('data.csv', 'r') as csvfile:\n",
    "    # Create a reader object\n",
    "    csv_reader = csv.reader(csvfile)\n",
    "    \n",
    "    # Iterate through the rows in the CSV file\n",
    "    for row in csv_reader:\n",
    "        # Access each element in the row\n",
    "        print(row)"
   ]
  },
  {
   "cell_type": "markdown",
   "metadata": {},
   "source": [
    "### Using the Pandas Library\n",
    "\n",
    "Pandas is a powerful library for data analysis in Python. \n",
    "It offers a more convenient way to read and manipulate CSV data."
   ]
  },
  {
   "cell_type": "code",
   "execution_count": null,
   "metadata": {},
   "outputs": [],
   "source": [
    "import pandas as pd\n",
    "\n",
    "# Read the CSV file into a DataFrame\n",
    "df = pd.read_csv('data.csv')\n",
    "\n",
    "# Access data in the DataFrame using column names or indexing\n",
    "print(df['column_name'])\n",
    "print(df.iloc[0])  # Access first row\n"
   ]
  },
  {
   "cell_type": "markdown",
   "metadata": {},
   "source": [
    "Reading CSV Files into a Data Frame"
   ]
  },
  {
   "cell_type": "code",
   "execution_count": null,
   "metadata": {},
   "outputs": [],
   "source": [
    "# Read CSV file into a data frame without headers and with tab delimiter\n",
    "data <- read.csv(\"C:/Users/ferna/Documents/2. Coding/VSC codingPython/babycsv.csv\", header=FALSE, sep=\"\\t\")\n",
    "\n",
    "# Print content of the data frame\n",
    "print(data)"
   ]
  },
  {
   "cell_type": "markdown",
   "metadata": {},
   "source": [
    "Reading and Writing TXT Files\n",
    "\n",
    "Using built-in functions to read and write TXT files:"
   ]
  },
  {
   "cell_type": "code",
   "execution_count": null,
   "metadata": {},
   "outputs": [],
   "source": [
    "# Reading a TXT file\n",
    "with open('data.txt', 'r') as txtfile:\n",
    "    content = txtfile.read()\n",
    "    print(content)\n",
    "\n",
    "# Writing to a TXT file\n",
    "with open('output.txt', 'w') as txtfile:\n",
    "    txtfile.write('This is a sample text file.\\n')\n"
   ]
  },
  {
   "cell_type": "markdown",
   "metadata": {},
   "source": [
    "Reading and Writing XLSM Files\n",
    "XLSM files are Excel files with macros. Handling these files requires specific libraries in both Python and R.\n",
    "\n",
    "In Python\n",
    "Using the openpyxl library to read and write XLSM files:"
   ]
  },
  {
   "cell_type": "code",
   "execution_count": null,
   "metadata": {},
   "outputs": [],
   "source": [
    "from openpyxl import load_workbook\n",
    "\n",
    "# Reading an XLSM file\n",
    "wb = load_workbook(filename='data.xlsm', read_only=True, keep_vba=True)\n",
    "ws = wb.active\n",
    "\n",
    "# Accessing data in the first sheet\n",
    "for row in ws.iter_rows(values_only=True):\n",
    "    print(row)\n",
    "\n",
    "# Writing to an XLSM file\n",
    "wb = load_workbook(filename='data.xlsm', keep_vba=True)\n",
    "ws = wb.active\n",
    "ws['A1'] = 'This is a sample data'\n",
    "wb.save('output.xlsm')\n"
   ]
  },
  {
   "cell_type": "markdown",
   "metadata": {},
   "source": [
    "JSON Files (Comment: JSON handling is different from CSV, TXT, and XLSM)\n",
    "JSON (JavaScript Object Notation) is a lightweight data-interchange format. Here’s how to read and write JSON files.\n",
    "\n",
    "In Python\n",
    "Using the json module to read and write JSON files:"
   ]
  },
  {
   "cell_type": "code",
   "execution_count": null,
   "metadata": {},
   "outputs": [],
   "source": [
    "import json\n",
    "\n",
    "# Reading a JSON file\n",
    "with open('data.json', 'r') as jsonfile:\n",
    "    data = json.load(jsonfile)\n",
    "    print(data)\n",
    "\n",
    "# Writing to a JSON file\n",
    "with open('output.json', 'w') as jsonfile:\n",
    "    json.dump(data, jsonfile, indent=4)\n"
   ]
  },
  {
   "cell_type": "markdown",
   "metadata": {},
   "source": [
    "### Main Difficulties in Importing a File in Any Programming Language\n",
    "\n",
    "1. **Ignoring the First Row or Column**: Not accounting for the fact that the first row often contains column headers.\n",
    "2. **Ignoring the File Extension or Type**: Failing to properly handle different file types (CSV, JSON, XML, etc.) and their respective libraries or reading methods.\n",
    "3. **Ignoring the Format Type of Each Entry, Column, or Row**: Not correctly converting data types (numbers, dates, strings).\n",
    "4. **Ignoring Empty Spaces**: Not properly handling empty cells or null values.\n",
    "5. **Handling Special Characters**: Problems with character encoding, such as UTF-8 vs. ASCII, or special characters in the data.\n",
    "6. **Delimiter Errors**: Incorrectly handling field delimiters (commas, tabs, semicolons, etc.).\n",
    "7. **Quote Errors**: Issues with double or single quotes within the data.\n",
    "8. **Corrupt or Incomplete Data**: Files that are partially damaged or incomplete.\n",
    "9. **Software Version Incompatibility**: Problems caused by differences between the software versions used to create the file and those used to read it.\n",
    "10. **Insufficient Memory**: Files too large to be handled by the available memory.\n",
    "11. **Error and Exception Handling**: Not properly implementing error and exception handling during file reading.\n",
    "12. **Performance Issues**: Lack of optimization when processing large files, leading to inefficient performance.\n",
    "13. **Inconsistent Format**: Files that do not follow a uniform format throughout the document.\n",
    "14. **Locale Settings**: Not considering locale settings such as date formats, decimal separators, etc.\n",
    "15. **Access Permissions**: Not having the necessary permissions to access or modify the file.\n",
    "16. **File Path Issues**: Errors in specifying the file path, especially on different operating systems.\n",
    "\n",
    "### Importing Files into a Python Program\n",
    "\n",
    "Once we have the correct file path, we can use various methods to import files into our Python program:\n",
    "\n",
    "1. **Built-in Functions**: The `open()` function is commonly used for reading text files.\n",
    "2. **Pandas Library**: Offers functions for loading and importing various file formats, such as CSV, Excel, JSON, and more.\n",
    "3. **NumPy Library**: Provides methods for importing data from binary files.\n",
    "4. **Specialized Libraries**: Certain libraries are designed to handle specific file types, such as Pillow for images or librosa for audio.\n"
   ]
  }
 ],
 "metadata": {
  "language_info": {
   "name": "python"
  }
 },
 "nbformat": 4,
 "nbformat_minor": 2
}
